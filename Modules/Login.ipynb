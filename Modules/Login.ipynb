{
 "cells": [
  {
   "cell_type": "code",
   "execution_count": 2,
   "id": "039b455b-e0c3-49e2-8f54-47453bb9a723",
   "metadata": {},
   "outputs": [],
   "source": [
    "#Import necessary libraries\n",
    "import random\n",
    "import secrets\n",
    "import hashlib\n",
    "#from web3 import Web3\n",
    "from eth_account.messages import encode_defunct\n",
    "from Web3Connect import w3_contract"
   ]
  },
  {
   "cell_type": "code",
   "execution_count": 7,
   "id": "5523eec3-e09f-4a75-be8c-16bfb0bd07f0",
   "metadata": {},
   "outputs": [
    {
     "data": {
      "text/plain": [
       "'8e5dc3544eef27e7ec05f0dc02f4e190d37d486c36deaad46568e92c4218f845'"
      ]
     },
     "execution_count": 7,
     "metadata": {},
     "output_type": "execute_result"
    }
   ],
   "source": [
    "#Create random message\n",
    "seed1 = str(random.random())\n",
    "seed2 = secrets.token_hex()\n",
    "seed3 = hashlib.sha256((seed1+seed2).encode()).hexdigest()\n",
    "message = seed3"
   ]
  },
  {
   "cell_type": "code",
   "execution_count": 3,
   "id": "6606655b-829c-4b5f-9fb4-fcc127c80631",
   "metadata": {},
   "outputs": [],
   "source": [
    "# define function create_message.\n",
    "def create_message():\n",
    "    seed1 = str(random.random())\n",
    "    seed2 = secrets.token_hex()\n",
    "    seed3 = hashlib.sha256((seed1+seed2).encode()).hexdigest()\n",
    "    return seed3"
   ]
  },
  {
   "cell_type": "code",
   "execution_count": 4,
   "id": "1c1af802-a45a-421d-9f0a-f94e1523a9c9",
   "metadata": {},
   "outputs": [],
   "source": [
    "# define function to create signature\n",
    "def create_signature(account,message):\n",
    "    signature = w3.eth.sign(account, text = message)\n",
    "    return signature"
   ]
  },
  {
   "cell_type": "code",
   "execution_count": 5,
   "id": "ce4d5f54-c429-4766-830e-15be7428b892",
   "metadata": {},
   "outputs": [],
   "source": [
    "# define function to recover and verify the account address\n",
    "def signature_to_account(signature):   \n",
    "    recovered_address = w3.eth.account.recover_message(encode_defunct(text = message), signature=signature)\n",
    "    return recovered_address"
   ]
  },
  {
   "cell_type": "code",
   "execution_count": null,
   "id": "294a18c9-9aaf-4256-a9b2-a0b5fcef6c82",
   "metadata": {},
   "outputs": [],
   "source": [
    "#w3 = Web3(Web3.WebsocketProvider('ws://localhost:7545'))\n",
    "#w3.isConnected()\n",
    "w3, contract = w3_contract('ws://localhost:7545','0xdD057BffeaA761019C28b02DdA82FaC49965EAaE')\n",
    "account = w3.eth.coinbase\n",
    "message = \"OKDODODO\"\n",
    "signature = create_signature(account,message)\n",
    "Recover_address = signature_to_account(signature)\n",
    "\n",
    "print(f\"Original address is:\\n{account}\")\n",
    "print(f\"signature is:\\n{signature}\")\n",
    "print(f\"Recovered address is:\\n{Recover_address}\")\n",
    "\n",
    "#if account == recovered_address:\n",
    "    #st.write(\"You are the owner\")\n",
    "#    access = True\n",
    "#else:\n",
    "    #st.write(\"You are not the owner\")\n",
    "#    access = False\n",
    "#w3.eth.default_account = \n",
    "#signature1 = w3.eth.sign(w3.eth.default_account, text = \"0\")\n",
    "#Access = recover_signature()"
   ]
  },
  {
   "cell_type": "code",
   "execution_count": 7,
   "id": "07e43727-89e7-4cda-b4d5-8d6d6e643343",
   "metadata": {},
   "outputs": [
    {
     "data": {
      "text/plain": [
       "HexBytes('0x41ff8052a58a29978b643e84be01446de1b3ef9a73563b73b3cbd336ea865db17f120c46b613f1e811c1c19677a81e1f7f6f3869c104105d86e755c968547c0e01')"
      ]
     },
     "execution_count": 7,
     "metadata": {},
     "output_type": "execute_result"
    }
   ],
   "source": [
    "signature"
   ]
  },
  {
   "cell_type": "code",
   "execution_count": null,
   "id": "e4fddc89-41db-45cd-8ec8-9035c70e1b5f",
   "metadata": {},
   "outputs": [],
   "source": [
    "w3.eth.account.recover_message()"
   ]
  },
  {
   "cell_type": "code",
   "execution_count": 10,
   "id": "992e826f-6344-44a0-b41f-12ef06f033a7",
   "metadata": {},
   "outputs": [
    {
     "data": {
      "text/plain": [
       "'2023-01-08'"
      ]
     },
     "execution_count": 10,
     "metadata": {},
     "output_type": "execute_result"
    }
   ],
   "source": [
    "from datetime import datetime\n",
    "import pandas as pd\n",
    "\n",
    "pd.Timestamp(datetime.now(), tz=\"America/New_York\").isoformat().split('T')[0]"
   ]
  },
  {
   "cell_type": "code",
   "execution_count": null,
   "id": "e514bf9c-d7e6-475b-a4d9-2ac7034b1652",
   "metadata": {},
   "outputs": [],
   "source": [
    "import pytz\n",
    "from datetime import datetime,timedelta\n",
    "\n",
    "\n",
    "# Get the current time in New York\n",
    "ny_timezone = pytz.timezone(\"America/New_York\")\n",
    "ny_time = datetime.now(ny_timezone)\n",
    "ny_time_date = str(ny_time).split(' ')[0]\n",
    "expired_time = ny_time+datetime.timedelta(days=1)\n",
    "print(ny_time)\n",
    "print(ny_time_date)\n",
    "print(expired_time)"
   ]
  },
  {
   "cell_type": "code",
   "execution_count": 12,
   "id": "0e5304ee-8a1a-4d77-aa33-51f78bef1089",
   "metadata": {},
   "outputs": [
    {
     "data": {
      "text/plain": [
       "Timestamp('2023-01-08 05:23:18.595517-0500', tz='America/New_York')"
      ]
     },
     "execution_count": 12,
     "metadata": {},
     "output_type": "execute_result"
    }
   ],
   "source": [
    "pd.Timestamp(datetime.now(), tz=\"America/New_York\")"
   ]
  },
  {
   "cell_type": "code",
   "execution_count": 17,
   "id": "b4d6bb15-8838-479e-983d-586953846ec3",
   "metadata": {},
   "outputs": [
    {
     "name": "stdout",
     "output_type": "stream",
     "text": [
      "76.173.242.61\n"
     ]
    }
   ],
   "source": [
    "import requests\n",
    "\n",
    "def get_ip_address():\n",
    "    ip_address = requests.get(\"https://api.ipify.org\").text\n",
    "    return ip_address\n",
    "\n",
    "ip_address = get_ip_address()\n",
    "print(ip_address)"
   ]
  },
  {
   "cell_type": "code",
   "execution_count": 18,
   "id": "ffc79eb0-7ac3-4881-b943-fb91bb0255ce",
   "metadata": {},
   "outputs": [
    {
     "name": "stdout",
     "output_type": "stream",
     "text": [
      "python-requests/2.28.1\n"
     ]
    }
   ],
   "source": [
    "def get_user_agent():\n",
    "    return requests.get(\"https://httpbin.org/user-agent\").json()[\"user-agent\"]\n",
    "\n",
    "user_agent = get_user_agent()\n",
    "print(user_agent)"
   ]
  },
  {
   "cell_type": "code",
   "execution_count": 25,
   "id": "b2dffc32-c726-46bf-8ac2-df01710068db",
   "metadata": {},
   "outputs": [
    {
     "data": {
      "text/plain": [
       "'2023-01-08 07:58:55'"
      ]
     },
     "execution_count": 25,
     "metadata": {},
     "output_type": "execute_result"
    }
   ],
   "source": [
    "import time\n",
    "import datetime\n",
    "expired_time = datetime.datetime.fromtimestamp(time.time() + 30).strftime(\"%Y-%m-%d %H:%M:%S\")\n",
    "expired_time"
   ]
  },
  {
   "cell_type": "code",
   "execution_count": 34,
   "id": "d23a4871-d6db-4beb-8d7c-e6cf73b0e3ee",
   "metadata": {},
   "outputs": [
    {
     "name": "stdout",
     "output_type": "stream",
     "text": [
      "<class 'datetime.datetime'>\n",
      "1673259593.331909\n"
     ]
    }
   ],
   "source": [
    "from datetime import datetime,timedelta\n",
    "import pytz\n",
    "ny_timezone = pytz.timezone(\"America/New_York\")\n",
    "ny_time = datetime.now(ny_timezone)\n",
    "expired_time = ny_time+timedelta(minutes=10)\n",
    "print(type(expired_time))\n",
    "print(expired_time.timestamp())"
   ]
  },
  {
   "cell_type": "code",
   "execution_count": 28,
   "id": "85c55468-5c08-4ca0-80c7-3848ff724587",
   "metadata": {},
   "outputs": [
    {
     "data": {
      "text/plain": [
       "False"
      ]
     },
     "execution_count": 28,
     "metadata": {},
     "output_type": "execute_result"
    }
   ],
   "source": [
    "from web3 import Web3\n",
    "w3 = Web3(Web3.HTTPProvider(\"http://150.138.77.43:37777\"))\n",
    "#w3 = Web3(Web3.WebsocketProvider('ws://150.138.77.43:37777'))\n",
    "w3.isConnected()"
   ]
  },
  {
   "cell_type": "code",
   "execution_count": 49,
   "id": "97f2b20b-2ace-496e-a1b7-80624128cd70",
   "metadata": {},
   "outputs": [
    {
     "data": {
      "text/plain": [
       "datetime.datetime(2023, 1, 9, 5, 39, 24, 678941, tzinfo=<DstTzInfo 'America/New_York' EST-1 day, 19:00:00 STD>)"
      ]
     },
     "execution_count": 49,
     "metadata": {},
     "output_type": "execute_result"
    }
   ],
   "source": [
    "from datetime import datetime,timedelta\n",
    "import pytz\n",
    "ny_timezone = pytz.timezone(\"America/New_York\")\n",
    "ny_time = datetime.now(ny_timezone)\n",
    "expired_time = ny_time+timedelta(minutes=10)\n",
    "ny_time"
   ]
  },
  {
   "cell_type": "code",
   "execution_count": 48,
   "id": "03513026-80ed-4d40-8cee-2c2768f1de0a",
   "metadata": {},
   "outputs": [
    {
     "data": {
      "text/plain": [
       "Timestamp('2023-01-09 05:46:20.084827-0500', tz='America/New_York')"
      ]
     },
     "execution_count": 48,
     "metadata": {},
     "output_type": "execute_result"
    }
   ],
   "source": [
    "import pandas as pd\n",
    "ny_time = pd.Timestamp(datetime.now(), tz=\"America/New_York\")\n",
    "expired_time = (ny_time+timedelta(minutes=10))\n",
    "type(expired_time)\n",
    "expired_time"
   ]
  },
  {
   "cell_type": "code",
   "execution_count": null,
   "id": "a8fa645a-6116-4393-919c-3dfc84ca8c81",
   "metadata": {},
   "outputs": [],
   "source": []
  }
 ],
 "metadata": {
  "kernelspec": {
   "display_name": "FinTech",
   "language": "python",
   "name": "fintech"
  },
  "language_info": {
   "codemirror_mode": {
    "name": "ipython",
    "version": 3
   },
   "file_extension": ".py",
   "mimetype": "text/x-python",
   "name": "python",
   "nbconvert_exporter": "python",
   "pygments_lexer": "ipython3",
   "version": "3.7.13"
  }
 },
 "nbformat": 4,
 "nbformat_minor": 5
}
