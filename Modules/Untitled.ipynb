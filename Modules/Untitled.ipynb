{
 "cells": [
  {
   "cell_type": "code",
   "execution_count": 12,
   "id": "62d365ae-d927-4f91-b239-1ea2119df5c4",
   "metadata": {},
   "outputs": [],
   "source": [
    "from ConnectDB import *\n",
    "from datetime import datetime\n",
    "import pytz"
   ]
  },
  {
   "cell_type": "code",
   "execution_count": 4,
   "id": "844701f5-5739-4f86-a45b-a606e094b861",
   "metadata": {},
   "outputs": [
    {
     "name": "stdout",
     "output_type": "stream",
     "text": [
      "DataBase Connected!\n",
      "Version: PostgreSQL 14.5 (Homebrew) on aarch64-apple-darwin22.1.0, compiled by Apple clang version 14.0.0 (clang-1400.0.29.202), 64-bit\n"
     ]
    }
   ],
   "source": [
    "# Connect DataBase\n",
    "con,cur = connect_data_base()"
   ]
  },
  {
   "cell_type": "code",
   "execution_count": 13,
   "id": "969a49f2-6121-4dea-83f0-f9f9f27aea57",
   "metadata": {},
   "outputs": [
    {
     "name": "stdout",
     "output_type": "stream",
     "text": [
      "2023-01-08 20:45:42.299017-05:00\n"
     ]
    }
   ],
   "source": [
    "ny_timezone = pytz.timezone(\"America/New_York\")\n",
    "user_hash = \"798b43f3f61b51ead4867a43b5ab0737b3d655f934bc32a89d72f660b7e50f5c\"\n",
    "cur.execute(\n",
    "        \"SELECT user_hash, expired_time FROM login_status WHERE user_hash = '{}' AND expired_time > NOW()\".format(user_hash))\n",
    "if cur.rowcount>0: #Found the user_hash in the table        \n",
    "    row = cur.fetchone()\n",
    "    expired_time = row[1]\n",
    "    print(expired_time)\n",
    "    if expired_time > datetime.now(ny_timezone): #Login still valid\n",
    "        login_status = True\n",
    "        #return login_status\n",
    "    else:\n",
    "        login_status = False # Login status is expired\n",
    "        #return login_status\n",
    "else:\n",
    "    login_status = False\n",
    "    #return login_status"
   ]
  },
  {
   "cell_type": "code",
   "execution_count": 21,
   "id": "bb883b02-d619-4992-a838-29a4abc1e870",
   "metadata": {},
   "outputs": [
    {
     "ename": "TypeError",
     "evalue": "list indices must be integers or slices, not str",
     "output_type": "error",
     "traceback": [
      "\u001b[0;31m---------------------------------------------------------------------------\u001b[0m",
      "\u001b[0;31mTypeError\u001b[0m                                 Traceback (most recent call last)",
      "\u001b[0;32m/var/folders/_f/j_14t_bj18vf6gn7f7zgmbkw0000gn/T/ipykernel_5213/1766672499.py\u001b[0m in \u001b[0;36m<module>\u001b[0;34m\u001b[0m\n\u001b[1;32m      2\u001b[0m         \"SELECT user_hash, expired_time FROM login_status WHERE user_hash = '{}' AND expired_time > NOW()\".format(user_hash))\n\u001b[1;32m      3\u001b[0m \u001b[0mrow\u001b[0m \u001b[0;34m=\u001b[0m \u001b[0mcur\u001b[0m\u001b[0;34m.\u001b[0m\u001b[0mfetchall\u001b[0m\u001b[0;34m(\u001b[0m\u001b[0;34m)\u001b[0m\u001b[0;34m\u001b[0m\u001b[0;34m\u001b[0m\u001b[0m\n\u001b[0;32m----> 4\u001b[0;31m \u001b[0mrow\u001b[0m\u001b[0;34m[\u001b[0m\u001b[0;34m\"expired_time\"\u001b[0m\u001b[0;34m]\u001b[0m\u001b[0;34m\u001b[0m\u001b[0;34m\u001b[0m\u001b[0m\n\u001b[0m\u001b[1;32m      5\u001b[0m \u001b[0mrow\u001b[0m\u001b[0;34m[\u001b[0m\u001b[0;34m\"user_hash\"\u001b[0m\u001b[0;34m]\u001b[0m\u001b[0;34m\u001b[0m\u001b[0;34m\u001b[0m\u001b[0m\n",
      "\u001b[0;31mTypeError\u001b[0m: list indices must be integers or slices, not str"
     ]
    }
   ],
   "source": [
    "cur.execute(\n",
    "        \"SELECT user_hash, expired_time FROM login_status WHERE user_hash = '{}' AND expired_time > NOW()\".format(user_hash))\n",
    "row = cur.fetchall()\n",
    "row[\"expired_time\"]\n",
    "row[\"user_hash\"]\n"
   ]
  },
  {
   "cell_type": "code",
   "execution_count": null,
   "id": "a1ab55ac-5de8-4160-a318-d2b96ed89fcb",
   "metadata": {},
   "outputs": [],
   "source": []
  }
 ],
 "metadata": {
  "kernelspec": {
   "display_name": "FinTech",
   "language": "python",
   "name": "fintech"
  },
  "language_info": {
   "codemirror_mode": {
    "name": "ipython",
    "version": 3
   },
   "file_extension": ".py",
   "mimetype": "text/x-python",
   "name": "python",
   "nbconvert_exporter": "python",
   "pygments_lexer": "ipython3",
   "version": "3.7.13"
  }
 },
 "nbformat": 4,
 "nbformat_minor": 5
}
