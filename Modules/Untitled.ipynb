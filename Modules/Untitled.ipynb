{
 "cells": [
  {
   "cell_type": "code",
   "execution_count": 12,
   "id": "62d365ae-d927-4f91-b239-1ea2119df5c4",
   "metadata": {},
   "outputs": [],
   "source": [
    "from ConnectDB import *\n",
    "from datetime import datetime\n",
    "import pytz"
   ]
  },
  {
   "cell_type": "code",
   "execution_count": 4,
   "id": "844701f5-5739-4f86-a45b-a606e094b861",
   "metadata": {},
   "outputs": [
    {
     "name": "stdout",
     "output_type": "stream",
     "text": [
      "DataBase Connected!\n",
      "Version: PostgreSQL 14.5 (Homebrew) on aarch64-apple-darwin22.1.0, compiled by Apple clang version 14.0.0 (clang-1400.0.29.202), 64-bit\n"
     ]
    }
   ],
   "source": [
    "# Connect DataBase\n",
    "con,cur = connect_data_base()"
   ]
  },
  {
   "cell_type": "code",
   "execution_count": 13,
   "id": "969a49f2-6121-4dea-83f0-f9f9f27aea57",
   "metadata": {},
   "outputs": [
    {
     "name": "stdout",
     "output_type": "stream",
     "text": [
      "2023-01-08 20:45:42.299017-05:00\n"
     ]
    }
   ],
   "source": [
    "ny_timezone = pytz.timezone(\"America/New_York\")\n",
    "user_hash = \"798b43f3f61b51ead4867a43b5ab0737b3d655f934bc32a89d72f660b7e50f5c\"\n",
    "cur.execute(\n",
    "        \"SELECT user_hash, expired_time FROM login_status WHERE user_hash = '{}' AND expired_time > NOW()\".format(user_hash))\n",
    "if cur.rowcount>0: #Found the user_hash in the table        \n",
    "    row = cur.fetchone()\n",
    "    expired_time = row[1]\n",
    "    print(expired_time)\n",
    "    if expired_time > datetime.now(ny_timezone): #Login still valid\n",
    "        login_status = True\n",
    "        #return login_status\n",
    "    else:\n",
    "        login_status = False # Login status is expired\n",
    "        #return login_status\n",
    "else:\n",
    "    login_status = False\n",
    "    #return login_status"
   ]
  },
  {
   "cell_type": "code",
   "execution_count": 8,
   "id": "bb883b02-d619-4992-a838-29a4abc1e870",
   "metadata": {},
   "outputs": [
    {
     "name": "stdout",
     "output_type": "stream",
     "text": [
      "DataBase Connected!\n",
      "Version: PostgreSQL 14.5 (Homebrew) on aarch64-apple-darwin22.1.0, compiled by Apple clang version 14.0.0 (clang-1400.0.29.202), 64-bit\n",
      "<class 'pytz.tzfile.America/New_York'>\n",
      "<class 'datetime.datetime'>\n",
      "<class 'datetime.datetime'>\n",
      "<class 'psycopg2.extensions.AsIs'>\n",
      "<class 'psycopg2.extensions.AsIs'>\n",
      "2023-01-09 15:20:27.790780-05:00\n",
      "2023-01-09 15:30:27.790780-05:00\n"
     ]
    }
   ],
   "source": [
    "from ConnectDB import *\n",
    "from datetime import datetime,timedelta\n",
    "import pytz\n",
    "from psycopg2.extensions import AsIs\n",
    "# Connect DataBase\n",
    "con,cur = connect_data_base()\n",
    " \n",
    "ny_timezone = pytz.timezone(\"America/New_York\")\n",
    "ny_time = datetime.now(ny_timezone)\n",
    "expired_time = ny_time+timedelta(minutes=10)\n",
    "# Convert the datetime object to a TIMESTAMPTZ object\n",
    "ny_time_timestamptz = psycopg2.extensions.AsIs(ny_time)\n",
    "expired_time_timestamptz = psycopg2.extensions.AsIs(expired_time)\n",
    "\n",
    "print(type(ny_timezone))\n",
    "print(type(ny_time))\n",
    "print(type(expired_time))\n",
    "print(type(ny_time_timestamptz))\n",
    "print(type(expired_time_timestamptz))\n",
    "print(ny_time_timestamptz)\n",
    "print(expired_time_timestamptz)"
   ]
  },
  {
   "cell_type": "code",
   "execution_count": 12,
   "id": "a1ab55ac-5de8-4160-a318-d2b96ed89fcb",
   "metadata": {},
   "outputs": [
    {
     "name": "stdout",
     "output_type": "stream",
     "text": [
      "DataBase Connected!\n",
      "Version: PostgreSQL 14.5 (Homebrew) on aarch64-apple-darwin22.1.0, compiled by Apple clang version 14.0.0 (clang-1400.0.29.202), 64-bit\n"
     ]
    }
   ],
   "source": [
    "from ConnectDB import *\n",
    "from datetime import datetime,timedelta\n",
    "import pytz\n",
    "\n",
    "# Connect DataBase\n",
    "con,cur = connect_data_base()\n",
    "user_hash = \"ca1f21621c994dc511e75fe1cf6b63e488de75a9f7736f90e26fb3e3b03f5ab2\"\n",
    "# Convert to NewYork Time\n",
    "ny_timezone = pytz.timezone(\"America/New_York\")\n",
    "ny_time = datetime.now(ny_timezone)\n",
    "expired_time = ny_time+timedelta(minutes=10)\n",
    "\n",
    "#Newyork_time = str(ny_time).split(' ')[0] #Only keep the date\n",
    "# prepare table_name\n",
    "verifier_table_name = \"login_status\"\n",
    "# Create table if not esists,\n",
    "cur.execute(\n",
    "\"CREATE TABLE IF NOT EXISTS %s (create_time TIMESTAMPTZ, user_hash TEXT, expired_time TIMESTAMPTZ);\" %verifier_table_name)\n",
    "# excute SQL command\n",
    "con.commit()\n",
    "# Insert all data to database and excute.  \n",
    "cur.execute(\"INSERT INTO {} (create_time,user_hash, expired_time) VALUES (%s,%s, %s)\".format(verifier_table_name),\n",
    "(ny_time, user_hash, expired_time))\n",
    "# excute query\n",
    "con.commit()"
   ]
  },
  {
   "cell_type": "code",
   "execution_count": 13,
   "id": "997b03f0-0b6f-465f-b999-f05e6f5fdbc8",
   "metadata": {},
   "outputs": [
    {
     "ename": "UndefinedColumn",
     "evalue": "column \"ca1f21621c994dc511e75fe1cf6b63e488de75a9f7736f90e26fb3e3b03f5ab\" does not exist\nLINE 1: DELETE FROM login_status WHERE user_hash = ca1f21621c994dc51...\n                                                   ^\n",
     "output_type": "error",
     "traceback": [
      "\u001b[0;31m---------------------------------------------------------------------------\u001b[0m",
      "\u001b[0;31mUndefinedColumn\u001b[0m                           Traceback (most recent call last)",
      "\u001b[0;32m/var/folders/_f/j_14t_bj18vf6gn7f7zgmbkw0000gn/T/ipykernel_1308/2494020953.py\u001b[0m in \u001b[0;36m<module>\u001b[0;34m\u001b[0m\n\u001b[1;32m      1\u001b[0m \u001b[0;31m#Select the User_hash matched record\u001b[0m\u001b[0;34m\u001b[0m\u001b[0;34m\u001b[0m\u001b[0;34m\u001b[0m\u001b[0m\n\u001b[1;32m      2\u001b[0m cur.execute(\n\u001b[0;32m----> 3\u001b[0;31m     \u001b[0;34m\"DELETE FROM login_status WHERE user_hash = {}\"\u001b[0m\u001b[0;34m.\u001b[0m\u001b[0mformat\u001b[0m\u001b[0;34m(\u001b[0m\u001b[0muser_hash\u001b[0m\u001b[0;34m)\u001b[0m\u001b[0;34m\u001b[0m\u001b[0;34m\u001b[0m\u001b[0m\n\u001b[0m\u001b[1;32m      4\u001b[0m )\n\u001b[1;32m      5\u001b[0m \u001b[0;31m# excute query\u001b[0m\u001b[0;34m\u001b[0m\u001b[0;34m\u001b[0m\u001b[0;34m\u001b[0m\u001b[0m\n",
      "\u001b[0;31mUndefinedColumn\u001b[0m: column \"ca1f21621c994dc511e75fe1cf6b63e488de75a9f7736f90e26fb3e3b03f5ab\" does not exist\nLINE 1: DELETE FROM login_status WHERE user_hash = ca1f21621c994dc51...\n                                                   ^\n"
     ]
    }
   ],
   "source": [
    "#Select the User_hash matched record\n",
    "cur.execute(\n",
    "    \"DELETE FROM login_status WHERE user_hash = {}\".format(user_hash)\n",
    ")\n",
    "# excute query\n",
    "con.commit()"
   ]
  },
  {
   "cell_type": "code",
   "execution_count": null,
   "id": "94c94a93-a364-4fa8-a35d-4289aebeb3b1",
   "metadata": {},
   "outputs": [],
   "source": []
  }
 ],
 "metadata": {
  "kernelspec": {
   "display_name": "FinTech",
   "language": "python",
   "name": "fintech"
  },
  "language_info": {
   "codemirror_mode": {
    "name": "ipython",
    "version": 3
   },
   "file_extension": ".py",
   "mimetype": "text/x-python",
   "name": "python",
   "nbconvert_exporter": "python",
   "pygments_lexer": "ipython3",
   "version": "3.7.13"
  }
 },
 "nbformat": 4,
 "nbformat_minor": 5
}
