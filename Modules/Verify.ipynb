{
 "cells": [
  {
   "cell_type": "code",
   "execution_count": 2,
   "id": "5953daa3-256b-416f-80dd-edf91276862d",
   "metadata": {},
   "outputs": [],
   "source": [
    "# import libraries\n",
    "#import web3\n",
    "from web3 import Web3,HTTPProvider\n"
   ]
  },
  {
   "cell_type": "code",
   "execution_count": 3,
   "id": "ae4e27dc-a27b-4427-990d-269fc84cf417",
   "metadata": {},
   "outputs": [],
   "source": [
    "# Connect to Ethereum network\n",
    "web3 = Web3(HTTPProvider(\"https://goerli.infura.io/v3/\"))"
   ]
  },
  {
   "cell_type": "code",
   "execution_count": 4,
   "id": "3cfb76fb-49b6-4a1d-9117-0176661b7ef3",
   "metadata": {},
   "outputs": [],
   "source": [
    "# Set smart contract address\n",
    "contract = \"\""
   ]
  },
  {
   "cell_type": "code",
   "execution_count": 5,
   "id": "ac2cc947-3812-40cf-9627-1ad5102bb2bc",
   "metadata": {},
   "outputs": [
    {
     "ename": "FileNotFoundError",
     "evalue": "[Errno 2] No such file or directory: 'contract.json'",
     "output_type": "error",
     "traceback": [
      "\u001b[0;31m---------------------------------------------------------------------------\u001b[0m",
      "\u001b[0;31mFileNotFoundError\u001b[0m                         Traceback (most recent call last)",
      "\u001b[0;32m/var/folders/_f/j_14t_bj18vf6gn7f7zgmbkw0000gn/T/ipykernel_25434/3311776586.py\u001b[0m in \u001b[0;36m<module>\u001b[0;34m\u001b[0m\n\u001b[1;32m      1\u001b[0m \u001b[0;31m# Acquire ABI of the smart contract\u001b[0m\u001b[0;34m\u001b[0m\u001b[0;34m\u001b[0m\u001b[0;34m\u001b[0m\u001b[0m\n\u001b[0;32m----> 2\u001b[0;31m \u001b[0;32mwith\u001b[0m \u001b[0mopen\u001b[0m \u001b[0;34m(\u001b[0m\u001b[0;34m'contract.json'\u001b[0m\u001b[0;34m,\u001b[0m\u001b[0;34m'r'\u001b[0m\u001b[0;34m)\u001b[0m \u001b[0;32mas\u001b[0m \u001b[0mf\u001b[0m\u001b[0;34m:\u001b[0m\u001b[0;34m\u001b[0m\u001b[0;34m\u001b[0m\u001b[0m\n\u001b[0m\u001b[1;32m      3\u001b[0m     \u001b[0mabi\u001b[0m \u001b[0;34m-\u001b[0m \u001b[0mjson\u001b[0m\u001b[0;34m.\u001b[0m\u001b[0mload\u001b[0m\u001b[0;34m(\u001b[0m\u001b[0mf\u001b[0m\u001b[0;34m)\u001b[0m\u001b[0;34m[\u001b[0m\u001b[0;34m'abi'\u001b[0m\u001b[0;34m]\u001b[0m\u001b[0;34m\u001b[0m\u001b[0;34m\u001b[0m\u001b[0m\n",
      "\u001b[0;31mFileNotFoundError\u001b[0m: [Errno 2] No such file or directory: 'contract.json'"
     ]
    }
   ],
   "source": [
    "# Acquire ABI of the smart contract\n",
    "with open ('contract.json','r') as f:\n",
    "    abi - json.load(f)['abi']"
   ]
  },
  {
   "cell_type": "code",
   "execution_count": 7,
   "id": "9e3c60a5-2fad-48f8-ab47-13ed0eb92b46",
   "metadata": {},
   "outputs": [
    {
     "ename": "SyntaxError",
     "evalue": "invalid syntax (564001770.py, line 21)",
     "output_type": "error",
     "traceback": [
      "\u001b[0;36m  File \u001b[0;32m\"/var/folders/_f/j_14t_bj18vf6gn7f7zgmbkw0000gn/T/ipykernel_25434/564001770.py\"\u001b[0;36m, line \u001b[0;32m21\u001b[0m\n\u001b[0;31m    from: window.ethereum.selectedAddress\u001b[0m\n\u001b[0m       ^\u001b[0m\n\u001b[0;31mSyntaxError\u001b[0m\u001b[0;31m:\u001b[0m invalid syntax\n"
     ]
    }
   ],
   "source": [
    "# 在 Streamlit 应用的侧边栏中加载 MetaMask 插件的 JavaScript 文件\n",
    "st.sidebar.markdown(\"\"\"\n",
    "    <script src=\"https://cdn.jsdelivr.net/npm/@metamask/metamask-extension@5.5.5/dist/metamask.min.js\"></script>\n",
    "\"\"\", unsafe_allow_html=True)\n",
    "\n",
    "import streamlit as st\n",
    "\n",
    "# 在 Streamlit 应用的侧边栏中加载 MetaMask 插件的 JavaScript 文件\n",
    "st.sidebar.markdown(\"\"\"\n",
    "    <script src=\"https://cdn.jsdelivr.net/npm/@metamask/metamask-extension@5.5.5/dist/metamask.min.js\"></script>\n",
    "\"\"\", unsafe_allow_html=True)\n",
    "\n",
    "if st.button(\"Sign with MetaMask\"):\n",
    "  # 询问用户要签名的消息\n",
    "  message = st.text_input(\"Enter the message to sign:\")\n",
    "  \n",
    "  # 调用 MetaMask 签名消息的函数\n",
    "  window.ethereum.send({\n",
    "    method: 'personal_sign',\n",
    "    params: [message],\n",
    "    from: window.ethereum.selectedAddress\n",
    "  }, (error, result) => {\n",
    "    if (error) {\n",
    "      console.error(error);\n",
    "    } else {\n",
    "      # 将签名的结果发送给服务器\n",
    "      sendSignatureToServer(result);\n",
    "    }\n",
    "  });\n",
    "\n"
   ]
  },
  {
   "cell_type": "code",
   "execution_count": null,
   "id": "78343388-0c12-430b-b0fa-665dba8480d7",
   "metadata": {},
   "outputs": [],
   "source": []
  }
 ],
 "metadata": {
  "kernelspec": {
   "display_name": "FinTech",
   "language": "python",
   "name": "fintech"
  },
  "language_info": {
   "codemirror_mode": {
    "name": "ipython",
    "version": 3
   },
   "file_extension": ".py",
   "mimetype": "text/x-python",
   "name": "python",
   "nbconvert_exporter": "python",
   "pygments_lexer": "ipython3",
   "version": "3.7.13"
  }
 },
 "nbformat": 4,
 "nbformat_minor": 5
}
