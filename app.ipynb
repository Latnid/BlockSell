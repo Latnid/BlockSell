{
 "cells": [
  {
   "cell_type": "code",
   "execution_count": 1,
   "id": "d230211d-9382-4dfe-bb66-5115560585f9",
   "metadata": {},
   "outputs": [
    {
     "data": {
      "text/plain": [
       "True"
      ]
     },
     "execution_count": 1,
     "metadata": {},
     "output_type": "execute_result"
    }
   ],
   "source": [
    "import os\n",
    "import json\n",
    "#from web3.auto import w3\n",
    "from web3 import Web3\n",
    "from bip44 import Wallet\n",
    "from web3 import Account\n",
    "from dotenv import load_dotenv\n",
    "from eth_account.messages import encode_defunct\n",
    "from pathlib import Path\n",
    "load_dotenv()"
   ]
  },
  {
   "cell_type": "code",
   "execution_count": 7,
   "id": "bffbfbd4-2984-4e44-a21b-f09acaa921ae",
   "metadata": {},
   "outputs": [
    {
     "name": "stdout",
     "output_type": "stream",
     "text": [
      "https://goerli.infura.io/v3/25070482efc24935822c2f9fbf91a066\n",
      "True\n"
     ]
    }
   ],
   "source": [
    "# Connect to Metamask\n",
    "w3 = Web3(Web3.HTTPProvider(os.getenv(\"WEB3_PROVIDER_URI\")))\n",
    "print(os.getenv(\"WEB3_PROVIDER_URI\"))\n",
    "# Check if connected\n",
    "print(w3.isConnected())"
   ]
  },
  {
   "cell_type": "code",
   "execution_count": 10,
   "id": "bd209271-317c-4241-9989-5386f6149c9f",
   "metadata": {},
   "outputs": [
    {
     "data": {
      "text/plain": [
       "'Geth/v1.10.23-omnibus-b38477ec/linux-amd64/go1.18.5'"
      ]
     },
     "execution_count": 10,
     "metadata": {},
     "output_type": "execute_result"
    }
   ],
   "source": [
    "w3.clientVersion"
   ]
  },
  {
   "cell_type": "code",
   "execution_count": null,
   "id": "152f05ea-8f33-4ca8-9417-025a564d4d0d",
   "metadata": {},
   "outputs": [],
   "source": [
    "# Call os.getenv(\"MNEMONIC\") and save it's value as a variable named mnemonic\n",
    "mnemonic = os.getenv(\"MNEMONIC\")\n",
    "\n",
    "# View the data type of mnemonic to confirm its availability\n",
    "type(mnemonic)"
   ]
  },
  {
   "cell_type": "code",
   "execution_count": null,
   "id": "2fd56c77-bd84-4db6-abca-5c941782c970",
   "metadata": {},
   "outputs": [],
   "source": [
    "# Instantiate a new instance of Wallet and pass it the mnemonic variable\n",
    "wallet = Wallet(mnemonic)\n",
    "\n",
    "# Review your wallet instance\n",
    "wallet"
   ]
  },
  {
   "cell_type": "code",
   "execution_count": null,
   "id": "3415be56-3dd6-4437-8591-66cdc32c8232",
   "metadata": {},
   "outputs": [],
   "source": [
    "# Calling the derive_account method on your wallet instance\n",
    "# Pass the string eth to the method\n",
    "private, public = wallet.derive_account(\"eth\")\n",
    "\n",
    "# Review the byte string of your private key\n",
    "private"
   ]
  },
  {
   "cell_type": "code",
   "execution_count": null,
   "id": "44df6d21-2e33-4d4a-9764-cfeb5b0d960b",
   "metadata": {},
   "outputs": [],
   "source": [
    "# Construct the Ethereum account by calling Account.privateKeyToAccount\n",
    "# Pass it your private key variable\n",
    "account = Account.privateKeyToAccount(\"5ac561aa199d243032cc52e004ea3bccd449adb94075a1a0811d3e8ddb75548d\")"
   ]
  },
  {
   "cell_type": "code",
   "execution_count": null,
   "id": "ddbb47bc-90fe-427a-9276-0207a5e46fc5",
   "metadata": {},
   "outputs": [],
   "source": [
    "# Call account.address and save it as a new variable named account_address\n",
    "account_address = account.address\n",
    "\n",
    "# Print the account's address\n",
    "account_address"
   ]
  },
  {
   "cell_type": "code",
   "execution_count": null,
   "id": "11f79fb4-3c4c-426d-8217-340ca2a7d4c0",
   "metadata": {},
   "outputs": [],
   "source": [
    "# Call the w3.eth.getBalance method, and pass it the account_address variable\n",
    "# Save the returned value as a variable named `wei_balance`\n",
    "wei_balance = w3.eth.getBalance('0x3c9F4F59053C5E1Ef7A90a80068d72b04C2981f5')\n",
    "\n",
    "# Print your account balance in wei\n",
    "wei_balance"
   ]
  },
  {
   "cell_type": "code",
   "execution_count": null,
   "id": "ea44145f-b45f-456f-8916-fa918f1d2046",
   "metadata": {},
   "outputs": [],
   "source": [
    "w3.eth.accounts.wallet.add(\"5ac561aa199d243032cc52e004ea3bccd449adb94075a1a0811d3e8ddb75548d\")"
   ]
  },
  {
   "cell_type": "code",
   "execution_count": null,
   "id": "75a72259-d301-4477-af5e-9297e50d0d73",
   "metadata": {},
   "outputs": [],
   "source": [
    "list(w3.eth.account)"
   ]
  },
  {
   "cell_type": "code",
   "execution_count": null,
   "id": "f2f77436-ec95-4349-bc78-001703db8bb6",
   "metadata": {},
   "outputs": [],
   "source": [
    "msg = \"Zach owes David $20\""
   ]
  },
  {
   "cell_type": "code",
   "execution_count": null,
   "id": "509cf066-b805-4d23-834c-18f0b80dbf91",
   "metadata": {},
   "outputs": [],
   "source": [
    "message = encode_defunct(text=msg)"
   ]
  },
  {
   "cell_type": "code",
   "execution_count": null,
   "id": "95af9173-7e53-4772-971e-08b8a15df2c5",
   "metadata": {},
   "outputs": [],
   "source": [
    "signed_message = w3.eth.account.sign_message(message, private_key=\"5ac561aa199d243032cc52e004ea3bccd449adb94075a1a0811d3e8ddb75548d\")\n",
    "signed_message"
   ]
  },
  {
   "cell_type": "code",
   "execution_count": null,
   "id": "6e69980e-ee77-4cf2-9502-48c0fdb36b4a",
   "metadata": {},
   "outputs": [],
   "source": [
    "signed_message = w3.eth.account.sign_message(encode_defunct(text = msg), private_key=\"5ac561aa199d243032cc52e004ea3bccd449adb94075a1a0811d3e8ddb75548d\")\n",
    "signed_message"
   ]
  },
  {
   "cell_type": "code",
   "execution_count": null,
   "id": "6e91f9a9-7fe3-4229-acfe-9ff7183dd848",
   "metadata": {},
   "outputs": [],
   "source": [
    "# sign a message\n",
    "signed_msg = w3.eth.sign(\n",
    "    message,\n",
    "    w3.eth.accounts[0]\n",
    ")\n",
    "signed_msg"
   ]
  },
  {
   "cell_type": "code",
   "execution_count": null,
   "id": "f2986c9a-22c8-4d9a-8bc3-c0e99ad54732",
   "metadata": {},
   "outputs": [],
   "source": [
    "def load_contract():\n",
    "    with open(Path(\"./Contracts/NFT_abi.json\")) as abi:\n",
    "        abi = json.load(abi)\n",
    "\n",
    "    contract_address = os.getenv(\"SMART_CONTRACT_ADDRESS\")\n",
    "\n",
    "    contract = w3.eth.contract(\n",
    "        address= contract_address,\n",
    "        abi= abi\n",
    "    )\n",
    "\n",
    "    return contract\n",
    "\n",
    "# Call load_contract()\n",
    "NFT_contract = load_contract()\n",
    "\n",
    "w3.eth.accounts"
   ]
  },
  {
   "cell_type": "code",
   "execution_count": null,
   "id": "f5d3c1c3-62e8-42e0-9332-7f46512360e4",
   "metadata": {},
   "outputs": [],
   "source": [
    "w3.eth.account.sign_message()"
   ]
  },
  {
   "cell_type": "code",
   "execution_count": 18,
   "id": "c85669ce-a469-4e1f-a520-767625849da7",
   "metadata": {},
   "outputs": [
    {
     "name": "stdout",
     "output_type": "stream",
     "text": [
      "SignedMessage(messageHash=HexBytes('0x33b3a3b6a592335989a91c51fda124d5acda2e198212b838589251d431b9c4fe'), r=71885887038621367509467504570473762710590700487587522992281670320325384932338, s=49890223278269779401404797588223248612577672644751013785706598807465328542827, v=28, signature=HexBytes('0x9eedf85f8343f3738f49a9a31a7fd2f550d92ccb596d2cdefb7b94c43b0f0bf26e4cdd9e6de4a9237b5a7737b57a3beea950148d18a5f454b2d9bec1a32a846b1c'))\n"
     ]
    }
   ],
   "source": [
    "import os\n",
    "import json\n",
    "from web3 import Web3\n",
    "from pathlib import Path\n",
    "from dotenv import load_dotenv\n",
    "from eth_account.messages import encode_defunct\n",
    "import streamlit as st\n",
    "\n",
    "load_dotenv()\n",
    "\n",
    "# Connect to the Ethereum provider\n",
    "w3 = Web3(Web3.HTTPProvider(os.getenv(\"WEB3_PROVIDER_URI\")))\n",
    "\n",
    "# Set the message to be signed\n",
    "message = \"Hello from Toptal!\"\n",
    "\n",
    "# Get the current account\n",
    "account = \"0x3c9F4F59053C5E1Ef7A90a80068d72b04C2981f5\"\n",
    "\n",
    "# Sign the message using the current account\n",
    "signature1 = w3.eth.account.sign_message(encode_defunct(text = \"0\"), private_key=\"3a4b5aa67fc8ab35f2be624e13cdf91d956ba7a734242d8c1a7d97f90f3c67ad\")\n",
    "\n",
    "# Print the signature\n",
    "print(signature1)\n"
   ]
  },
  {
   "cell_type": "code",
   "execution_count": 19,
   "id": "5eb9c184-60af-4a43-bf5d-6d986fe8a1b8",
   "metadata": {},
   "outputs": [
    {
     "ename": "ValueError",
     "evalue": "{'code': -32601, 'message': 'The method eth_sign does not exist/is not available'}",
     "output_type": "error",
     "traceback": [
      "\u001b[0;31m---------------------------------------------------------------------------\u001b[0m",
      "\u001b[0;31mValueError\u001b[0m                                Traceback (most recent call last)",
      "\u001b[0;32m/var/folders/_f/j_14t_bj18vf6gn7f7zgmbkw0000gn/T/ipykernel_3078/740502137.py\u001b[0m in \u001b[0;36m<module>\u001b[0;34m\u001b[0m\n\u001b[0;32m----> 1\u001b[0;31m \u001b[0msignature2\u001b[0m \u001b[0;34m=\u001b[0m \u001b[0mw3\u001b[0m\u001b[0;34m.\u001b[0m\u001b[0meth\u001b[0m\u001b[0;34m.\u001b[0m\u001b[0msign\u001b[0m\u001b[0;34m(\u001b[0m\u001b[0maccount\u001b[0m\u001b[0;34m,\u001b[0m \u001b[0mtext\u001b[0m \u001b[0;34m=\u001b[0m \u001b[0;34m\"0\"\u001b[0m\u001b[0;34m)\u001b[0m\u001b[0;34m\u001b[0m\u001b[0;34m\u001b[0m\u001b[0m\n\u001b[0m\u001b[1;32m      2\u001b[0m \u001b[0msignature2\u001b[0m\u001b[0;34m\u001b[0m\u001b[0;34m\u001b[0m\u001b[0m\n",
      "\u001b[0;32m~/opt/anaconda3/envs/FinTech/lib/python3.7/site-packages/web3/module.py\u001b[0m in \u001b[0;36mcaller\u001b[0;34m(*args, **kwargs)\u001b[0m\n\u001b[1;32m     58\u001b[0m                                              \u001b[0mparams\u001b[0m\u001b[0;34m,\u001b[0m\u001b[0;34m\u001b[0m\u001b[0;34m\u001b[0m\u001b[0m\n\u001b[1;32m     59\u001b[0m                                              \u001b[0merror_formatters\u001b[0m\u001b[0;34m,\u001b[0m\u001b[0;34m\u001b[0m\u001b[0;34m\u001b[0m\u001b[0m\n\u001b[0;32m---> 60\u001b[0;31m                                              null_result_formatters)\n\u001b[0m\u001b[1;32m     61\u001b[0m         \u001b[0;32mreturn\u001b[0m \u001b[0mapply_result_formatters\u001b[0m\u001b[0;34m(\u001b[0m\u001b[0mresult_formatters\u001b[0m\u001b[0;34m,\u001b[0m \u001b[0mresult\u001b[0m\u001b[0;34m)\u001b[0m\u001b[0;34m\u001b[0m\u001b[0;34m\u001b[0m\u001b[0m\n\u001b[1;32m     62\u001b[0m     \u001b[0;32mreturn\u001b[0m \u001b[0mcaller\u001b[0m\u001b[0;34m\u001b[0m\u001b[0;34m\u001b[0m\u001b[0m\n",
      "\u001b[0;32m~/opt/anaconda3/envs/FinTech/lib/python3.7/site-packages/web3/manager.py\u001b[0m in \u001b[0;36mrequest_blocking\u001b[0;34m(self, method, params, error_formatters, null_result_formatters)\u001b[0m\n\u001b[1;32m    199\u001b[0m                                        \u001b[0mparams\u001b[0m\u001b[0;34m,\u001b[0m\u001b[0;34m\u001b[0m\u001b[0;34m\u001b[0m\u001b[0m\n\u001b[1;32m    200\u001b[0m                                        \u001b[0merror_formatters\u001b[0m\u001b[0;34m,\u001b[0m\u001b[0;34m\u001b[0m\u001b[0;34m\u001b[0m\u001b[0m\n\u001b[0;32m--> 201\u001b[0;31m                                        null_result_formatters)\n\u001b[0m\u001b[1;32m    202\u001b[0m \u001b[0;34m\u001b[0m\u001b[0m\n\u001b[1;32m    203\u001b[0m     async def coro_request(\n",
      "\u001b[0;32m~/opt/anaconda3/envs/FinTech/lib/python3.7/site-packages/web3/manager.py\u001b[0m in \u001b[0;36mformatted_response\u001b[0;34m(response, params, error_formatters, null_result_formatters)\u001b[0m\n\u001b[1;32m    169\u001b[0m         \u001b[0;32mif\u001b[0m \u001b[0;34m\"error\"\u001b[0m \u001b[0;32min\u001b[0m \u001b[0mresponse\u001b[0m\u001b[0;34m:\u001b[0m\u001b[0;34m\u001b[0m\u001b[0;34m\u001b[0m\u001b[0m\n\u001b[1;32m    170\u001b[0m             \u001b[0mapply_error_formatters\u001b[0m\u001b[0;34m(\u001b[0m\u001b[0merror_formatters\u001b[0m\u001b[0;34m,\u001b[0m \u001b[0mresponse\u001b[0m\u001b[0;34m)\u001b[0m\u001b[0;34m\u001b[0m\u001b[0;34m\u001b[0m\u001b[0m\n\u001b[0;32m--> 171\u001b[0;31m             \u001b[0;32mraise\u001b[0m \u001b[0mValueError\u001b[0m\u001b[0;34m(\u001b[0m\u001b[0mresponse\u001b[0m\u001b[0;34m[\u001b[0m\u001b[0;34m\"error\"\u001b[0m\u001b[0;34m]\u001b[0m\u001b[0;34m)\u001b[0m\u001b[0;34m\u001b[0m\u001b[0;34m\u001b[0m\u001b[0m\n\u001b[0m\u001b[1;32m    172\u001b[0m         \u001b[0;31m# NULL_RESPONSES includes None, so return False here as the default\u001b[0m\u001b[0;34m\u001b[0m\u001b[0;34m\u001b[0m\u001b[0;34m\u001b[0m\u001b[0m\n\u001b[1;32m    173\u001b[0m         \u001b[0;31m# so we don't apply the null_result_formatters if there is no 'result' key\u001b[0m\u001b[0;34m\u001b[0m\u001b[0;34m\u001b[0m\u001b[0;34m\u001b[0m\u001b[0m\n",
      "\u001b[0;31mValueError\u001b[0m: {'code': -32601, 'message': 'The method eth_sign does not exist/is not available'}"
     ]
    }
   ],
   "source": [
    "signature2 = w3.eth.sign(account, text = \"0\")\n",
    "signature2"
   ]
  },
  {
   "cell_type": "code",
   "execution_count": 20,
   "id": "d5400194-c692-4397-b64f-aad4a975b3e8",
   "metadata": {},
   "outputs": [
    {
     "data": {
      "text/plain": [
       "'0xEb5F5FD327B17fa82e5633A52cB340dB30Da938d'"
      ]
     },
     "execution_count": 20,
     "metadata": {},
     "output_type": "execute_result"
    }
   ],
   "source": [
    "recovered_address1 = w3.eth.account.recover_message(encode_defunct(text = \"0\"), signature=signature1.signature)\n",
    "recovered_address1"
   ]
  },
  {
   "cell_type": "code",
   "execution_count": 21,
   "id": "86c367ed-09b0-476e-973d-7336b9142906",
   "metadata": {},
   "outputs": [
    {
     "data": {
      "text/plain": [
       "'0xEb5F5FD327B17fa82e5633A52cB340dB30Da938d'"
      ]
     },
     "execution_count": 21,
     "metadata": {},
     "output_type": "execute_result"
    }
   ],
   "source": [
    "recovered_address2 = w3.eth.account.recover_message(encode_defunct(text = \"0\"), signature=signature2)\n",
    "recovered_address2"
   ]
  },
  {
   "cell_type": "code",
   "execution_count": null,
   "id": "3ce217ae-5d9c-41e8-a967-45cb5d9615d8",
   "metadata": {},
   "outputs": [],
   "source": [
    "0x9eedf85f8343f3738f49a9a31a7fd2f550d92ccb596d2cdefb7b94c43b0f0bf26e4cdd9e6de4a9237b5a7737b57a3beea950148d18a5f454b2d9bec1a32a846b1c\n",
    "0x9eedf85f8343f3738f49a9a31a7fd2f550d92ccb596d2cdefb7b94c43b0f0bf26e4cdd9e6de4a9237b5a7737b57a3beea950148d18a5f454b2d9bec1a32a846b01"
   ]
  },
  {
   "cell_type": "code",
   "execution_count": 2,
   "id": "9f7e63f0-9434-47a9-a68d-ec6ab73c89e8",
   "metadata": {},
   "outputs": [],
   "source": [
    "import os\n",
    "import json\n",
    "from web3 import Web3\n",
    "from pathlib import Path\n",
    "from dotenv import load_dotenv\n",
    "from eth_account.messages import encode_defunct\n",
    "import streamlit as st\n",
    "\n",
    "\n",
    "load_dotenv()\n",
    "\n",
    "w3 = Web3(Web3.HTTPProvider(os.getenv(\"WEB3_PROVIDER_URI2\")))\n",
    "\n",
    "#@st.cache(allow_output_mutation=True)\n",
    "def load_contract():\n",
    "    with open(Path(\"./Contracts/NFT_abi.json\")) as abi:\n",
    "        abi = json.load(abi)\n",
    "\n",
    "    contract_address = os.getenv(\"SMART_CONTRACT_ADDRESSS2\")\n",
    "\n",
    "    contract = w3.eth.contract(\n",
    "        address= contract_address,\n",
    "        abi= abi\n",
    "    )\n",
    "\n",
    "    return contract\n",
    "\n",
    "# Call load_contract()\n",
    "NFT_contract = load_contract(\"from\")"
   ]
  },
  {
   "cell_type": "code",
   "execution_count": 5,
   "id": "2e3131bc-ae2d-42b7-b15b-40f2f18fbde8",
   "metadata": {},
   "outputs": [
    {
     "ename": "ValueError",
     "evalue": "Please ensure that this contract instance has an address.",
     "output_type": "error",
     "traceback": [
      "\u001b[0;31m---------------------------------------------------------------------------\u001b[0m",
      "\u001b[0;31mValueError\u001b[0m                                Traceback (most recent call last)",
      "\u001b[0;32m/var/folders/_f/j_14t_bj18vf6gn7f7zgmbkw0000gn/T/ipykernel_1066/2904429526.py\u001b[0m in \u001b[0;36m<module>\u001b[0;34m\u001b[0m\n\u001b[1;32m      1\u001b[0m \u001b[0mmessage\u001b[0m \u001b[0;34m=\u001b[0m \u001b[0;34m\"Hello\"\u001b[0m\u001b[0;34m\u001b[0m\u001b[0;34m\u001b[0m\u001b[0m\n\u001b[0;32m----> 2\u001b[0;31m \u001b[0mNFT_contract\u001b[0m\u001b[0;34m.\u001b[0m\u001b[0mfunctions\u001b[0m\u001b[0;34m.\u001b[0m\u001b[0msign\u001b[0m\u001b[0;34m(\u001b[0m\u001b[0mmessage\u001b[0m\u001b[0;34m)\u001b[0m\u001b[0;34m.\u001b[0m\u001b[0mtransact\u001b[0m\u001b[0;34m(\u001b[0m\u001b[0;34m{\u001b[0m\u001b[0;34m\"from\"\u001b[0m\u001b[0;34m:\u001b[0m\u001b[0;34m\"0x3c9F4F59053C5E1Ef7A90a80068d72b04C2981f5\"\u001b[0m\u001b[0;34m}\u001b[0m\u001b[0;34m)\u001b[0m\u001b[0;34m\u001b[0m\u001b[0;34m\u001b[0m\u001b[0m\n\u001b[0m",
      "\u001b[0;32m~/opt/anaconda3/envs/FinTech/lib/python3.7/site-packages/web3/contract.py\u001b[0m in \u001b[0;36mtransact\u001b[0;34m(self, transaction)\u001b[0m\n\u001b[1;32m   1005\u001b[0m             \u001b[0;32melse\u001b[0m\u001b[0;34m:\u001b[0m\u001b[0;34m\u001b[0m\u001b[0;34m\u001b[0m\u001b[0m\n\u001b[1;32m   1006\u001b[0m                 raise ValueError(\n\u001b[0;32m-> 1007\u001b[0;31m                     \u001b[0;34m\"Please ensure that this contract instance has an address.\"\u001b[0m\u001b[0;34m\u001b[0m\u001b[0;34m\u001b[0m\u001b[0m\n\u001b[0m\u001b[1;32m   1008\u001b[0m                 )\n\u001b[1;32m   1009\u001b[0m \u001b[0;34m\u001b[0m\u001b[0m\n",
      "\u001b[0;31mValueError\u001b[0m: Please ensure that this contract instance has an address."
     ]
    }
   ],
   "source": [
    "message = \"Hello\"\n",
    "NFT_contract.functions.sign(message).transact({\"from\":\"0x3c9F4F59053C5E1Ef7A90a80068d72b04C2981f5\"})"
   ]
  },
  {
   "cell_type": "code",
   "execution_count": null,
   "id": "a5c3c4fe-4f8c-4180-a76c-0ab3053bb109",
   "metadata": {},
   "outputs": [],
   "source": []
  }
 ],
 "metadata": {
  "kernelspec": {
   "display_name": "FinTech",
   "language": "python",
   "name": "fintech"
  },
  "language_info": {
   "codemirror_mode": {
    "name": "ipython",
    "version": 3
   },
   "file_extension": ".py",
   "mimetype": "text/x-python",
   "name": "python",
   "nbconvert_exporter": "python",
   "pygments_lexer": "ipython3",
   "version": "3.7.13"
  }
 },
 "nbformat": 4,
 "nbformat_minor": 5
}
